{
 "cells": [
  {
   "cell_type": "markdown",
   "id": "a69344a3",
   "metadata": {},
   "source": [
    "# Creating A Model of Diabetes Dataset\n",
    "Importing necessary libraries"
   ]
  },
  {
   "cell_type": "code",
   "execution_count": 1,
   "id": "97c93c65",
   "metadata": {},
   "outputs": [],
   "source": [
    "import pandas as pd\n",
    "import numpy as np\n",
    "import matplotlib.pyplot as plt\n",
    "import seaborn as sns\n",
    "import pickle\n",
    "%matplotlib inline"
   ]
  },
  {
   "cell_type": "markdown",
   "id": "b931ec82",
   "metadata": {},
   "source": [
    "# Reading the Diabetes Dataset"
   ]
  },
  {
   "cell_type": "code",
   "execution_count": 4,
   "id": "1f43e7bc",
   "metadata": {},
   "outputs": [],
   "source": [
    "df = pd.read_csv('diabete.csv')"
   ]
  },
  {
   "cell_type": "code",
   "execution_count": 5,
   "id": "c21c5dea",
   "metadata": {},
   "outputs": [
    {
     "name": "stdout",
     "output_type": "stream",
     "text": [
      "(768, 9)\n"
     ]
    }
   ],
   "source": [
    "print(df.shape)"
   ]
  },
  {
   "cell_type": "code",
   "execution_count": 6,
   "id": "a05c9a49",
   "metadata": {},
   "outputs": [
    {
     "data": {
      "text/html": [
       "<div>\n",
       "<style scoped>\n",
       "    .dataframe tbody tr th:only-of-type {\n",
       "        vertical-align: middle;\n",
       "    }\n",
       "\n",
       "    .dataframe tbody tr th {\n",
       "        vertical-align: top;\n",
       "    }\n",
       "\n",
       "    .dataframe thead th {\n",
       "        text-align: right;\n",
       "    }\n",
       "</style>\n",
       "<table border=\"1\" class=\"dataframe\">\n",
       "  <thead>\n",
       "    <tr style=\"text-align: right;\">\n",
       "      <th></th>\n",
       "      <th>preg</th>\n",
       "      <th>plas</th>\n",
       "      <th>pres</th>\n",
       "      <th>skin</th>\n",
       "      <th>insu</th>\n",
       "      <th>mass</th>\n",
       "      <th>pedi</th>\n",
       "      <th>age</th>\n",
       "      <th>class</th>\n",
       "    </tr>\n",
       "  </thead>\n",
       "  <tbody>\n",
       "    <tr>\n",
       "      <th>0</th>\n",
       "      <td>6</td>\n",
       "      <td>148</td>\n",
       "      <td>72</td>\n",
       "      <td>35</td>\n",
       "      <td>0</td>\n",
       "      <td>33.6</td>\n",
       "      <td>0.627</td>\n",
       "      <td>50</td>\n",
       "      <td>tested_positive</td>\n",
       "    </tr>\n",
       "    <tr>\n",
       "      <th>1</th>\n",
       "      <td>1</td>\n",
       "      <td>85</td>\n",
       "      <td>66</td>\n",
       "      <td>29</td>\n",
       "      <td>0</td>\n",
       "      <td>26.6</td>\n",
       "      <td>0.351</td>\n",
       "      <td>31</td>\n",
       "      <td>tested_negative</td>\n",
       "    </tr>\n",
       "    <tr>\n",
       "      <th>2</th>\n",
       "      <td>8</td>\n",
       "      <td>183</td>\n",
       "      <td>64</td>\n",
       "      <td>0</td>\n",
       "      <td>0</td>\n",
       "      <td>23.3</td>\n",
       "      <td>0.672</td>\n",
       "      <td>32</td>\n",
       "      <td>tested_positive</td>\n",
       "    </tr>\n",
       "    <tr>\n",
       "      <th>3</th>\n",
       "      <td>1</td>\n",
       "      <td>89</td>\n",
       "      <td>66</td>\n",
       "      <td>23</td>\n",
       "      <td>94</td>\n",
       "      <td>28.1</td>\n",
       "      <td>0.167</td>\n",
       "      <td>21</td>\n",
       "      <td>tested_negative</td>\n",
       "    </tr>\n",
       "    <tr>\n",
       "      <th>4</th>\n",
       "      <td>0</td>\n",
       "      <td>137</td>\n",
       "      <td>40</td>\n",
       "      <td>35</td>\n",
       "      <td>168</td>\n",
       "      <td>43.1</td>\n",
       "      <td>2.288</td>\n",
       "      <td>33</td>\n",
       "      <td>tested_positive</td>\n",
       "    </tr>\n",
       "  </tbody>\n",
       "</table>\n",
       "</div>"
      ],
      "text/plain": [
       "   preg  plas  pres  skin  insu  mass   pedi  age            class\n",
       "0     6   148    72    35     0  33.6  0.627   50  tested_positive\n",
       "1     1    85    66    29     0  26.6  0.351   31  tested_negative\n",
       "2     8   183    64     0     0  23.3  0.672   32  tested_positive\n",
       "3     1    89    66    23    94  28.1  0.167   21  tested_negative\n",
       "4     0   137    40    35   168  43.1  2.288   33  tested_positive"
      ]
     },
     "execution_count": 6,
     "metadata": {},
     "output_type": "execute_result"
    }
   ],
   "source": [
    "df.head()"
   ]
  },
  {
   "cell_type": "code",
   "execution_count": 7,
   "id": "fcdfb8ce",
   "metadata": {},
   "outputs": [
    {
     "data": {
      "text/html": [
       "<div>\n",
       "<style scoped>\n",
       "    .dataframe tbody tr th:only-of-type {\n",
       "        vertical-align: middle;\n",
       "    }\n",
       "\n",
       "    .dataframe tbody tr th {\n",
       "        vertical-align: top;\n",
       "    }\n",
       "\n",
       "    .dataframe thead th {\n",
       "        text-align: right;\n",
       "    }\n",
       "</style>\n",
       "<table border=\"1\" class=\"dataframe\">\n",
       "  <thead>\n",
       "    <tr style=\"text-align: right;\">\n",
       "      <th></th>\n",
       "      <th>preg</th>\n",
       "      <th>plas</th>\n",
       "      <th>pres</th>\n",
       "      <th>skin</th>\n",
       "      <th>insu</th>\n",
       "      <th>mass</th>\n",
       "      <th>pedi</th>\n",
       "      <th>age</th>\n",
       "      <th>class</th>\n",
       "    </tr>\n",
       "  </thead>\n",
       "  <tbody>\n",
       "    <tr>\n",
       "      <th>763</th>\n",
       "      <td>10</td>\n",
       "      <td>101</td>\n",
       "      <td>76</td>\n",
       "      <td>48</td>\n",
       "      <td>180</td>\n",
       "      <td>32.9</td>\n",
       "      <td>0.171</td>\n",
       "      <td>63</td>\n",
       "      <td>tested_negative</td>\n",
       "    </tr>\n",
       "    <tr>\n",
       "      <th>764</th>\n",
       "      <td>2</td>\n",
       "      <td>122</td>\n",
       "      <td>70</td>\n",
       "      <td>27</td>\n",
       "      <td>0</td>\n",
       "      <td>36.8</td>\n",
       "      <td>0.340</td>\n",
       "      <td>27</td>\n",
       "      <td>tested_negative</td>\n",
       "    </tr>\n",
       "    <tr>\n",
       "      <th>765</th>\n",
       "      <td>5</td>\n",
       "      <td>121</td>\n",
       "      <td>72</td>\n",
       "      <td>23</td>\n",
       "      <td>112</td>\n",
       "      <td>26.2</td>\n",
       "      <td>0.245</td>\n",
       "      <td>30</td>\n",
       "      <td>tested_negative</td>\n",
       "    </tr>\n",
       "    <tr>\n",
       "      <th>766</th>\n",
       "      <td>1</td>\n",
       "      <td>126</td>\n",
       "      <td>60</td>\n",
       "      <td>0</td>\n",
       "      <td>0</td>\n",
       "      <td>30.1</td>\n",
       "      <td>0.349</td>\n",
       "      <td>47</td>\n",
       "      <td>tested_positive</td>\n",
       "    </tr>\n",
       "    <tr>\n",
       "      <th>767</th>\n",
       "      <td>1</td>\n",
       "      <td>93</td>\n",
       "      <td>70</td>\n",
       "      <td>31</td>\n",
       "      <td>0</td>\n",
       "      <td>30.4</td>\n",
       "      <td>0.315</td>\n",
       "      <td>23</td>\n",
       "      <td>tested_negative</td>\n",
       "    </tr>\n",
       "  </tbody>\n",
       "</table>\n",
       "</div>"
      ],
      "text/plain": [
       "     preg  plas  pres  skin  insu  mass   pedi  age            class\n",
       "763    10   101    76    48   180  32.9  0.171   63  tested_negative\n",
       "764     2   122    70    27     0  36.8  0.340   27  tested_negative\n",
       "765     5   121    72    23   112  26.2  0.245   30  tested_negative\n",
       "766     1   126    60     0     0  30.1  0.349   47  tested_positive\n",
       "767     1    93    70    31     0  30.4  0.315   23  tested_negative"
      ]
     },
     "execution_count": 7,
     "metadata": {},
     "output_type": "execute_result"
    }
   ],
   "source": [
    "df.tail()"
   ]
  },
  {
   "cell_type": "code",
   "execution_count": 8,
   "id": "34aa5705",
   "metadata": {},
   "outputs": [
    {
     "name": "stdout",
     "output_type": "stream",
     "text": [
      "<class 'pandas.core.frame.DataFrame'>\n",
      "RangeIndex: 768 entries, 0 to 767\n",
      "Data columns (total 9 columns):\n",
      " #   Column  Non-Null Count  Dtype  \n",
      "---  ------  --------------  -----  \n",
      " 0   preg    768 non-null    int64  \n",
      " 1   plas    768 non-null    int64  \n",
      " 2   pres    768 non-null    int64  \n",
      " 3   skin    768 non-null    int64  \n",
      " 4   insu    768 non-null    int64  \n",
      " 5   mass    768 non-null    float64\n",
      " 6   pedi    768 non-null    float64\n",
      " 7   age     768 non-null    int64  \n",
      " 8   class   768 non-null    object \n",
      "dtypes: float64(2), int64(6), object(1)\n",
      "memory usage: 54.1+ KB\n"
     ]
    }
   ],
   "source": [
    "df.info()"
   ]
  },
  {
   "cell_type": "markdown",
   "id": "f5df0847",
   "metadata": {},
   "source": [
    "# Train Test Split\n",
    "Let's split up the data into training set and test set"
   ]
  },
  {
   "cell_type": "code",
   "execution_count": 9,
   "id": "0ee983f8",
   "metadata": {},
   "outputs": [],
   "source": [
    "from sklearn.model_selection import train_test_split"
   ]
  },
  {
   "cell_type": "code",
   "execution_count": 10,
   "id": "7852d8ae",
   "metadata": {},
   "outputs": [],
   "source": [
    "X = df.drop('class',axis = 1)\n",
    "y = df['class']"
   ]
  },
  {
   "cell_type": "code",
   "execution_count": 11,
   "id": "b2314941",
   "metadata": {},
   "outputs": [],
   "source": [
    "X_train, X_test, y_train, y_test = train_test_split(X, y, test_size = 0.3,random_state=0)"
   ]
  },
  {
   "cell_type": "markdown",
   "id": "4e295c4b",
   "metadata": {},
   "source": [
    "# Decision Trees\n",
    "We'll start just by training a single decision tree"
   ]
  },
  {
   "cell_type": "code",
   "execution_count": 12,
   "id": "cd40db30",
   "metadata": {},
   "outputs": [],
   "source": [
    "from sklearn.tree import DecisionTreeClassifier"
   ]
  },
  {
   "cell_type": "code",
   "execution_count": 13,
   "id": "74d3eb86",
   "metadata": {},
   "outputs": [],
   "source": [
    "dtree = DecisionTreeClassifier()"
   ]
  },
  {
   "cell_type": "code",
   "execution_count": 14,
   "id": "6cdba631",
   "metadata": {},
   "outputs": [
    {
     "data": {
      "text/plain": [
       "DecisionTreeClassifier()"
      ]
     },
     "execution_count": 14,
     "metadata": {},
     "output_type": "execute_result"
    }
   ],
   "source": [
    "dtree.fit(X_train, y_train)"
   ]
  },
  {
   "cell_type": "markdown",
   "id": "1c7ba589",
   "metadata": {},
   "source": [
    "## Prediction and Evaluation for Decision Trees\n",
    "Let's evaluate our decision tree"
   ]
  },
  {
   "cell_type": "code",
   "execution_count": 15,
   "id": "442d82bd",
   "metadata": {},
   "outputs": [],
   "source": [
    "predTree = dtree.predict(X_test)"
   ]
  },
  {
   "cell_type": "code",
   "execution_count": 16,
   "id": "53305599",
   "metadata": {},
   "outputs": [],
   "source": [
    "from sklearn.metrics import classification_report, confusion_matrix, accuracy_score"
   ]
  },
  {
   "cell_type": "code",
   "execution_count": 17,
   "id": "69fc81a5",
   "metadata": {},
   "outputs": [
    {
     "name": "stdout",
     "output_type": "stream",
     "text": [
      "                 precision    recall  f1-score   support\n",
      "\n",
      "tested_negative       0.82      0.80      0.81       157\n",
      "tested_positive       0.59      0.62      0.61        74\n",
      "\n",
      "       accuracy                           0.74       231\n",
      "      macro avg       0.70      0.71      0.71       231\n",
      "   weighted avg       0.74      0.74      0.74       231\n",
      "\n"
     ]
    }
   ],
   "source": [
    "print(classification_report(y_test,predTree))"
   ]
  },
  {
   "cell_type": "code",
   "execution_count": 18,
   "id": "0ccf15eb",
   "metadata": {},
   "outputs": [
    {
     "name": "stdout",
     "output_type": "stream",
     "text": [
      "[[125  32]\n",
      " [ 28  46]]\n"
     ]
    }
   ],
   "source": [
    "print(confusion_matrix(y_test,predTree))"
   ]
  },
  {
   "cell_type": "code",
   "execution_count": 19,
   "id": "715cb473",
   "metadata": {},
   "outputs": [
    {
     "name": "stdout",
     "output_type": "stream",
     "text": [
      "74.02597402597402\n"
     ]
    }
   ],
   "source": [
    "print(accuracy_score(y_test,predTree)*100)"
   ]
  },
  {
   "cell_type": "code",
   "execution_count": 20,
   "id": "006eb523",
   "metadata": {},
   "outputs": [],
   "source": [
    "a = pd.DataFrame(confusion_matrix(y_test,predTree),index='Positive Negative'.split(), columns='Positive Negative'.split())"
   ]
  },
  {
   "cell_type": "code",
   "execution_count": 21,
   "id": "6d2e0b8b",
   "metadata": {},
   "outputs": [
    {
     "data": {
      "text/plain": [
       "<Figure size 360x360 with 0 Axes>"
      ]
     },
     "execution_count": 21,
     "metadata": {},
     "output_type": "execute_result"
    },
    {
     "data": {
      "text/plain": [
       "<Figure size 360x360 with 0 Axes>"
      ]
     },
     "metadata": {},
     "output_type": "display_data"
    }
   ],
   "source": [
    "plt.figure(figsize = (5,5))"
   ]
  },
  {
   "cell_type": "code",
   "execution_count": 22,
   "id": "2cde30c6",
   "metadata": {},
   "outputs": [
    {
     "data": {
      "text/plain": [
       "Text(0.5, 1.0, 'Confusion Matrix for Decision Tree')"
      ]
     },
     "execution_count": 22,
     "metadata": {},
     "output_type": "execute_result"
    },
    {
     "data": {
      "image/png": "[encoded data removed]",
      "text/plain": [
       "<Figure size 432x288 with 1 Axes>"
      ]
     },
     "metadata": {
      "needs_background": "light"
     },
     "output_type": "display_data"
    }
   ],
   "source": [
    "ax = sns.heatmap(a,annot=True,fmt='.1f',square=1,linewidth=1.,cbar=False)\n",
    "plt.title('Confusion Matrix for Decision Tree')"
   ]
  },
  {
   "cell_type": "code",
   "execution_count": null,
   "id": "6c91beb0",
   "metadata": {},
   "outputs": [],
   "source": []
  },
  {
   "cell_type": "markdown",
   "id": "d0c7e901",
   "metadata": {},
   "source": [
    "# Random Forest\n",
    "We'll start training the model with Random forest Machine learning algorithm"
   ]
  },
  {
   "cell_type": "code",
   "execution_count": 23,
   "id": "5267b71a",
   "metadata": {},
   "outputs": [],
   "source": [
    "from sklearn.ensemble import RandomForestClassifier"
   ]
  },
  {
   "cell_type": "code",
   "execution_count": 24,
   "id": "f6dbe728",
   "metadata": {},
   "outputs": [],
   "source": [
    "rfc = RandomForestClassifier(n_estimators = 100)"
   ]
  },
  {
   "cell_type": "code",
   "execution_count": 25,
   "id": "e728f83f",
   "metadata": {},
   "outputs": [
    {
     "data": {
      "text/plain": [
       "RandomForestClassifier()"
      ]
     },
     "execution_count": 25,
     "metadata": {},
     "output_type": "execute_result"
    }
   ],
   "source": [
    "rfc.fit(X_train,y_train)"
   ]
  },
  {
   "cell_type": "code",
   "execution_count": 26,
   "id": "1b42b08e",
   "metadata": {},
   "outputs": [],
   "source": [
    "rfc_pred = rfc.predict(X_test)"
   ]
  },
  {
   "cell_type": "code",
   "execution_count": 27,
   "id": "d8bcef3e",
   "metadata": {},
   "outputs": [
    {
     "data": {
      "text/plain": [
       "array(['tested_negative'], dtype=object)"
      ]
     },
     "execution_count": 27,
     "metadata": {},
     "output_type": "execute_result"
    }
   ],
   "source": [
    "rfc.predict([[2,300,0,0,45.2,2.1,55,45]])"
   ]
  },
  {
   "cell_type": "code",
   "execution_count": 28,
   "id": "ee0bff89",
   "metadata": {},
   "outputs": [
    {
     "data": {
      "text/plain": [
       "array(['tested_negative'], dtype=object)"
      ]
     },
     "execution_count": 28,
     "metadata": {},
     "output_type": "execute_result"
    }
   ],
   "source": [
    "rfc.predict([[0,60,4,5,45.2,2.1,35,28]])"
   ]
  },
  {
   "cell_type": "markdown",
   "id": "a4d22bd8",
   "metadata": {},
   "source": [
    "# Prediction and Evaluation for Random Forest\n",
    "Let's evaluate our random forest "
   ]
  },
  {
   "cell_type": "code",
   "execution_count": 29,
   "id": "e874e77b",
   "metadata": {},
   "outputs": [
    {
     "name": "stdout",
     "output_type": "stream",
     "text": [
      "                 precision    recall  f1-score   support\n",
      "\n",
      "tested_negative       0.80      0.89      0.84       157\n",
      "tested_positive       0.70      0.53      0.60        74\n",
      "\n",
      "       accuracy                           0.77       231\n",
      "      macro avg       0.75      0.71      0.72       231\n",
      "   weighted avg       0.77      0.77      0.77       231\n",
      "\n"
     ]
    }
   ],
   "source": [
    "print(classification_report(y_test,rfc_pred))"
   ]
  },
  {
   "cell_type": "code",
   "execution_count": 30,
   "id": "6025195a",
   "metadata": {},
   "outputs": [
    {
     "name": "stdout",
     "output_type": "stream",
     "text": [
      "77.48917748917748\n"
     ]
    }
   ],
   "source": [
    "print(accuracy_score(y_test,rfc_pred)*100)"
   ]
  },
  {
   "cell_type": "code",
   "execution_count": 31,
   "id": "4cb08aae",
   "metadata": {},
   "outputs": [
    {
     "name": "stdout",
     "output_type": "stream",
     "text": [
      "[[140  17]\n",
      " [ 35  39]]\n"
     ]
    }
   ],
   "source": [
    "print(confusion_matrix(y_test,rfc_pred))"
   ]
  },
  {
   "cell_type": "code",
   "execution_count": 32,
   "id": "edb91f6b",
   "metadata": {},
   "outputs": [],
   "source": [
    "a = pd.DataFrame(confusion_matrix(y_test,rfc_pred),index='Positive Negative'.split(), columns='Positive Negative'.split())"
   ]
  },
  {
   "cell_type": "code",
   "execution_count": 33,
   "id": "e84a8cd1",
   "metadata": {},
   "outputs": [
    {
     "data": {
      "text/plain": [
       "<Figure size 360x360 with 0 Axes>"
      ]
     },
     "execution_count": 33,
     "metadata": {},
     "output_type": "execute_result"
    },
    {
     "data": {
      "text/plain": [
       "<Figure size 360x360 with 0 Axes>"
      ]
     },
     "metadata": {},
     "output_type": "display_data"
    }
   ],
   "source": [
    "plt.figure(figsize = (5,5))"
   ]
  },
  {
   "cell_type": "code",
   "execution_count": 34,
   "id": "2c0a18be",
   "metadata": {},
   "outputs": [
    {
     "data": {
      "text/plain": [
       "Text(0.5, 1.0, 'Confusion Matrix for Random Forest')"
      ]
     },
     "execution_count": 34,
     "metadata": {},
     "output_type": "execute_result"
    },
    {
     "data": {
      "image/png": "[encoded data removed]",
      "text/plain": [
       "<Figure size 432x288 with 1 Axes>"
      ]
     },
     "metadata": {
      "needs_background": "light"
     },
     "output_type": "display_data"
    }
   ],
   "source": [
    "ax = sns.heatmap(a,annot=True,fmt='.1f',square=1,linewidth=1.,cbar=False)\n",
    "plt.title('Confusion Matrix for Random Forest')"
   ]
  },
  {
   "cell_type": "code",
   "execution_count": 35,
   "id": "c2f29bd4",
   "metadata": {},
   "outputs": [],
   "source": [
    "#pkl_filename = 'random_model.pkl'\n",
    "#pickle.dump(rfc, open(pkl_filename, 'wb'))"
   ]
  },
  {
   "cell_type": "raw",
   "id": "6769742c",
   "metadata": {},
   "source": [
    "rfc.predict([[2,3,4,5,45.2,2.1,35]])"
   ]
  },
  {
   "cell_type": "markdown",
   "id": "eafcb166",
   "metadata": {},
   "source": [
    "# SVM\n",
    "Let's start training models with SVM ML techniques"
   ]
  },
  {
   "cell_type": "code",
   "execution_count": 36,
   "id": "8adbb881",
   "metadata": {},
   "outputs": [],
   "source": [
    "from sklearn import svm"
   ]
  },
  {
   "cell_type": "code",
   "execution_count": 37,
   "id": "cc51cc59",
   "metadata": {},
   "outputs": [],
   "source": [
    "svm_classifier = svm.SVC()"
   ]
  },
  {
   "cell_type": "code",
   "execution_count": 38,
   "id": "6b42ba3e",
   "metadata": {},
   "outputs": [
    {
     "data": {
      "text/plain": [
       "SVC()"
      ]
     },
     "execution_count": 38,
     "metadata": {},
     "output_type": "execute_result"
    }
   ],
   "source": [
    "svm_classifier.fit(X_train,y_train)"
   ]
  },
  {
   "cell_type": "code",
   "execution_count": 39,
   "id": "f088fc85",
   "metadata": {},
   "outputs": [],
   "source": [
    "svm_pred = svm_classifier.predict(X_test)"
   ]
  },
  {
   "cell_type": "markdown",
   "id": "eda3df9b",
   "metadata": {},
   "source": [
    "# Prediction and Evaluation for SVM\n",
    "Let's evaluate our SVM "
   ]
  },
  {
   "cell_type": "code",
   "execution_count": 40,
   "id": "f1860b7c",
   "metadata": {},
   "outputs": [
    {
     "name": "stdout",
     "output_type": "stream",
     "text": [
      "                 precision    recall  f1-score   support\n",
      "\n",
      "tested_negative       0.77      0.90      0.83       157\n",
      "tested_positive       0.68      0.43      0.53        74\n",
      "\n",
      "       accuracy                           0.75       231\n",
      "      macro avg       0.73      0.67      0.68       231\n",
      "   weighted avg       0.74      0.75      0.74       231\n",
      "\n"
     ]
    }
   ],
   "source": [
    "print(classification_report(y_test,svm_pred))"
   ]
  },
  {
   "cell_type": "code",
   "execution_count": 41,
   "id": "d0f5570b",
   "metadata": {},
   "outputs": [
    {
     "name": "stdout",
     "output_type": "stream",
     "text": [
      "75.32467532467533\n"
     ]
    }
   ],
   "source": [
    "print(accuracy_score(y_test,svm_pred)*100)"
   ]
  },
  {
   "cell_type": "code",
   "execution_count": 42,
   "id": "efe0f5fc",
   "metadata": {},
   "outputs": [
    {
     "name": "stdout",
     "output_type": "stream",
     "text": [
      "[[142  15]\n",
      " [ 42  32]]\n"
     ]
    }
   ],
   "source": [
    "print(confusion_matrix(y_test,svm_pred))"
   ]
  },
  {
   "cell_type": "code",
   "execution_count": 43,
   "id": "e115cd7d",
   "metadata": {},
   "outputs": [
    {
     "data": {
      "text/plain": [
       "Text(0.5, 1.0, 'Confusion Matrix for SVM')"
      ]
     },
     "execution_count": 43,
     "metadata": {},
     "output_type": "execute_result"
    },
    {
     "data": {
      "image/png": "[encoded data removed]",
      "text/plain": [
       "<Figure size 360x360 with 1 Axes>"
      ]
     },
     "metadata": {
      "needs_background": "light"
     },
     "output_type": "display_data"
    }
   ],
   "source": [
    "a = pd.DataFrame(confusion_matrix(y_test,rfc_pred),index='Positive Negative'.split(), columns='Positive Negative'.split())\n",
    "plt.figure(figsize = (5,5))\n",
    "ax = sns.heatmap(a,annot=True,fmt='.1f',square=1,linewidth=1.,cbar=False)\n",
    "plt.title('Confusion Matrix for SVM')"
   ]
  },
  {
   "cell_type": "code",
   "execution_count": null,
   "id": "aeef9777",
   "metadata": {},
   "outputs": [],
   "source": []
  },
  {
   "cell_type": "markdown",
   "id": "7c75d671",
   "metadata": {},
   "source": [
    "# KNN\n",
    "Let's start training models with KNN ML techniques"
   ]
  },
  {
   "cell_type": "code",
   "execution_count": 44,
   "id": "66ee889a",
   "metadata": {},
   "outputs": [],
   "source": [
    "from sklearn.neighbors import KNeighborsClassifier"
   ]
  },
  {
   "cell_type": "code",
   "execution_count": 45,
   "id": "bed4c614",
   "metadata": {},
   "outputs": [],
   "source": [
    "KNN = KNeighborsClassifier(n_neighbors=5)"
   ]
  },
  {
   "cell_type": "code",
   "execution_count": 46,
   "id": "295211bf",
   "metadata": {},
   "outputs": [
    {
     "data": {
      "text/plain": [
       "KNeighborsClassifier()"
      ]
     },
     "execution_count": 46,
     "metadata": {},
     "output_type": "execute_result"
    }
   ],
   "source": [
    "KNN.fit(X_train,y_train)"
   ]
  },
  {
   "cell_type": "code",
   "execution_count": 47,
   "id": "d4ee6e3e",
   "metadata": {},
   "outputs": [],
   "source": [
    "KNN_pred = KNN.predict(X_test)"
   ]
  },
  {
   "cell_type": "markdown",
   "id": "465af6c8",
   "metadata": {},
   "source": [
    "# Prediction and Evaluation for KNN\n",
    "Let's evaluate our KNN classification_report, confusion_matrix, accuracy_score"
   ]
  },
  {
   "cell_type": "code",
   "execution_count": 48,
   "id": "f4cccf34",
   "metadata": {},
   "outputs": [
    {
     "name": "stdout",
     "output_type": "stream",
     "text": [
      "                 precision    recall  f1-score   support\n",
      "\n",
      "tested_negative       0.79      0.85      0.82       157\n",
      "tested_positive       0.63      0.53      0.57        74\n",
      "\n",
      "       accuracy                           0.75       231\n",
      "      macro avg       0.71      0.69      0.70       231\n",
      "   weighted avg       0.74      0.75      0.74       231\n",
      "\n"
     ]
    }
   ],
   "source": [
    "print(classification_report(y_test,KNN_pred))"
   ]
  },
  {
   "cell_type": "code",
   "execution_count": 49,
   "id": "190f335d",
   "metadata": {},
   "outputs": [
    {
     "name": "stdout",
     "output_type": "stream",
     "text": [
      "74.89177489177489\n"
     ]
    }
   ],
   "source": [
    "print(accuracy_score(y_test,KNN_pred)*100)"
   ]
  },
  {
   "cell_type": "code",
   "execution_count": 50,
   "id": "90745c1d",
   "metadata": {},
   "outputs": [
    {
     "name": "stdout",
     "output_type": "stream",
     "text": [
      "[[134  23]\n",
      " [ 35  39]]\n"
     ]
    }
   ],
   "source": [
    "print(confusion_matrix(y_test,KNN_pred))"
   ]
  },
  {
   "cell_type": "code",
   "execution_count": 51,
   "id": "38b86308",
   "metadata": {},
   "outputs": [
    {
     "data": {
      "text/plain": [
       "Text(0.5, 1.0, 'Confusion Matrix for KNN')"
      ]
     },
     "execution_count": 51,
     "metadata": {},
     "output_type": "execute_result"
    },
    {
     "data": {
      "image/png": "[encoded data removed]",
      "text/plain": [
       "<Figure size 360x360 with 1 Axes>"
      ]
     },
     "metadata": {
      "needs_background": "light"
     },
     "output_type": "display_data"
    }
   ],
   "source": [
    "a = pd.DataFrame(confusion_matrix(y_test,KNN_pred),index='Positive Negative'.split(), columns='Positive Negative'.split())\n",
    "plt.figure(figsize = (5,5))\n",
    "ax = sns.heatmap(a,annot=True,fmt='.1f',square=1,linewidth=1.,cbar=False)\n",
    "plt.title('Confusion Matrix for KNN')"
   ]
  },
  {
   "cell_type": "code",
   "execution_count": null,
   "id": "39bc031c",
   "metadata": {},
   "outputs": [],
   "source": []
  },
  {
   "cell_type": "code",
   "execution_count": null,
   "id": "955d2178",
   "metadata": {},
   "outputs": [],
   "source": []
  }
 ],
 "metadata": {
  "kernelspec": {
   "display_name": "Python 3 (ipykernel)",
   "language": "python",
   "name": "python3"
  },
  "language_info": {
   "codemirror_mode": {
    "name": "ipython",
    "version": 3
   },
   "file_extension": ".py",
   "mimetype": "text/x-python",
   "name": "python",
   "nbconvert_exporter": "python",
   "pygments_lexer": "ipython3",
   "version": "3.9.7"
  }
 },
 "nbformat": 4,
 "nbformat_minor": 5
}
